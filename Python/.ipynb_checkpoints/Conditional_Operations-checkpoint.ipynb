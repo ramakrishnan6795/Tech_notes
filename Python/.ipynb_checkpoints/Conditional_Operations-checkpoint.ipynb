{
 "cells": [
  {
   "cell_type": "markdown",
   "metadata": {},
   "source": [
    "# Conditional Operations"
   ]
  },
  {
   "cell_type": "markdown",
   "metadata": {},
   "source": [
    "### Conditional Operators\n",
    "| Operator | Description |\n",
    "| -------- | ----------- |\n",
    "| <        | Less than   |\n",
    "| >        | Greater than|\n",
    "| <=       | Less than or equal to |\n",
    "| >=       | Greater than or equal to |\n",
    "| ==       | Equal to |\n",
    "| !=       | Not equal to |"
   ]
  },
  {
   "cell_type": "markdown",
   "metadata": {},
   "source": [
    "### Example 1"
   ]
  },
  {
   "cell_type": "code",
   "execution_count": 1,
   "metadata": {},
   "outputs": [
    {
     "name": "stdout",
     "output_type": "stream",
     "text": [
      "Pick one (Tea or Coffee): Tea\n",
      "Here is your Tea!\n"
     ]
    }
   ],
   "source": [
    "drink = input(\"Pick one (Tea or Coffee): \")\n",
    "if drink == \"Tea\":\n",
    "    print(\"Here is your Tea!\")\n",
    "elif drink == \"Coffee\":\n",
    "    print(\"Here is your Coffee!\")\n",
    "else:\n",
    "    print(\"Here is your Water!\")"
   ]
  },
  {
   "cell_type": "markdown",
   "metadata": {},
   "source": [
    "### Example 2"
   ]
  },
  {
   "cell_type": "code",
   "execution_count": 3,
   "metadata": {},
   "outputs": [
    {
     "name": "stdout",
     "output_type": "stream",
     "text": [
      "Enter calculation like 2 + 2: 5 * 6\n",
      "5 * 6 = 30\n"
     ]
    }
   ],
   "source": [
    "num_1, operator, num_2 = input(\"Enter calculation like 2 + 2: \").split()\n",
    "num_1 = int(num_1)\n",
    "num_2 = int(num_2)\n",
    "\n",
    "if operator == \"+\":\n",
    "    print(f\"{num_1} + {num_2} = {num_1 + num_2}\")\n",
    "elif operator == \"-\":\n",
    "    print(f\"{num_1} - {num_2} = {num_1 - num_2}\")\n",
    "elif operator == \"*\":\n",
    "    print(f\"{num_1} * {num_2} = {num_1 * num_2}\")\n",
    "elif operator == \"/\":\n",
    "    print(f\"{num_1} / {num_2} = {num_1 / num_2}\")\n",
    "elif operator == \"%\":\n",
    "    print(f\"{num_1} % {num_2} = {num_1 % num_2}\")\n",
    "else:\n",
    "    print(\"Choose the one like + - * / % Next Time\")"
   ]
  },
  {
   "cell_type": "markdown",
   "metadata": {},
   "source": [
    "### Example 3"
   ]
  },
  {
   "cell_type": "code",
   "execution_count": 10,
   "metadata": {},
   "outputs": [
    {
     "name": "stdout",
     "output_type": "stream",
     "text": [
      "Enter the age: 35\n",
      "Younger\n"
     ]
    }
   ],
   "source": [
    "age = int(input(\"Enter the age: \"))\n",
    "\n",
    "if age <= 12:\n",
    "    print(\"Child\")\n",
    "elif (age > 12) and (age <= 19):\n",
    "    print(\"Teen\")\n",
    "elif (age > 20) and (age <= 35):\n",
    "    print(\"Younger\")\n",
    "elif (age > 35) and (age <= 58):\n",
    "    print(\"Elder\")\n",
    "elif age > 58:\n",
    "    print(\"Older\")\n",
    "else:\n",
    "    print(\"Enter a valid age next time\")"
   ]
  },
  {
   "cell_type": "markdown",
   "metadata": {},
   "source": [
    "### Example 4"
   ]
  },
  {
   "cell_type": "code",
   "execution_count": 12,
   "metadata": {},
   "outputs": [
    {
     "name": "stdout",
     "output_type": "stream",
     "text": [
      "Enter the age: 40\n",
      "Go to College\n"
     ]
    }
   ],
   "source": [
    "age = int(input(\"Enter the age: \"))\n",
    "if age < 5:\n",
    "    print(\"Too young to school\")\n",
    "elif age == 5:\n",
    "    print(\"Go to kindergarten\")\n",
    "elif (age > 5) and (age <= 19):\n",
    "    grade = age - 5\n",
    "    print(\"Go to Grade {}\" .format(grade))\n",
    "else:\n",
    "    print(\"Go to College\")"
   ]
  },
  {
   "cell_type": "markdown",
   "metadata": {},
   "source": [
    "### Example 5\n",
    "\n",
    "Condition_true if condition else condition_false"
   ]
  },
  {
   "cell_type": "code",
   "execution_count": 13,
   "metadata": {},
   "outputs": [
    {
     "name": "stdout",
     "output_type": "stream",
     "text": [
      "What is your age? 19\n",
      "You can vote: True\n"
     ]
    }
   ],
   "source": [
    "age = int(input(\"What is your age? \"))\n",
    "can_vote = True if age >= 18 else False\n",
    "print(\"You can vote:\", can_vote)"
   ]
  },
  {
   "cell_type": "code",
   "execution_count": 14,
   "metadata": {},
   "outputs": [
    {
     "name": "stdout",
     "output_type": "stream",
     "text": [
      "What is your age? 19\n",
      "Eligibility: Vote\n"
     ]
    }
   ],
   "source": [
    "age = int(input(\"What is your age? \"))\n",
    "can_vote = \"Vote\" if age >= 18 else \"Not Vote\"\n",
    "print(\"Eligibility:\", can_vote)"
   ]
  },
  {
   "cell_type": "code",
   "execution_count": null,
   "metadata": {},
   "outputs": [],
   "source": []
  }
 ],
 "metadata": {
  "kernelspec": {
   "display_name": "Python 3",
   "language": "python",
   "name": "python3"
  },
  "language_info": {
   "codemirror_mode": {
    "name": "ipython",
    "version": 3
   },
   "file_extension": ".py",
   "mimetype": "text/x-python",
   "name": "python",
   "nbconvert_exporter": "python",
   "pygments_lexer": "ipython3",
   "version": "3.8.3"
  }
 },
 "nbformat": 4,
 "nbformat_minor": 4
}
