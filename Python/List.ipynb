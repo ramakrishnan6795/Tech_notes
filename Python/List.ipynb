{
 "cells": [
  {
   "cell_type": "markdown",
   "metadata": {},
   "source": [
    "# Python3 List"
   ]
  },
  {
   "cell_type": "markdown",
   "metadata": {},
   "source": [
    "### Creating Sample lists"
   ]
  },
  {
   "cell_type": "code",
   "execution_count": 54,
   "metadata": {},
   "outputs": [],
   "source": [
    "namelist = ['Barry Allen', 'Iris West', 'Cisco Ramon', 'Caitlin Snow', 'Joe West', 'Harrison Wells', 'Captain Singh']\n",
    "numlist = [1001, 1002, 1003, 1004, 1005, 1006, 1007]"
   ]
  },
  {
   "cell_type": "markdown",
   "metadata": {},
   "source": [
    "### Finding the length of the list"
   ]
  },
  {
   "cell_type": "code",
   "execution_count": 55,
   "metadata": {},
   "outputs": [
    {
     "data": {
      "text/plain": [
       "7"
      ]
     },
     "execution_count": 55,
     "metadata": {},
     "output_type": "execute_result"
    }
   ],
   "source": [
    "len(namelist)"
   ]
  },
  {
   "cell_type": "markdown",
   "metadata": {},
   "source": [
    "### count"
   ]
  },
  {
   "cell_type": "code",
   "execution_count": 56,
   "metadata": {},
   "outputs": [
    {
     "data": {
      "text/plain": [
       "1"
      ]
     },
     "execution_count": 56,
     "metadata": {},
     "output_type": "execute_result"
    }
   ],
   "source": [
    "namelist.count(\"Barry Allen\")"
   ]
  },
  {
   "cell_type": "markdown",
   "metadata": {},
   "source": [
    "### append"
   ]
  },
  {
   "cell_type": "code",
   "execution_count": 57,
   "metadata": {},
   "outputs": [
    {
     "name": "stdout",
     "output_type": "stream",
     "text": [
      "['Barry Allen', 'Iris West', 'Cisco Ramon', 'Caitlin Snow', 'Joe West', 'Harrison Wells', 'Captain Singh', 'Oliver Queen']\n"
     ]
    }
   ],
   "source": [
    "namelist.append('Oliver Queen')\n",
    "print(namelist)"
   ]
  },
  {
   "cell_type": "markdown",
   "metadata": {},
   "source": [
    "### Insert"
   ]
  },
  {
   "cell_type": "code",
   "execution_count": 58,
   "metadata": {},
   "outputs": [
    {
     "name": "stdout",
     "output_type": "stream",
     "text": [
      "['Barry Allen', 'Iris West', 'Cisco Ramon', 'Caitlin Snow', 'Joe West', 'Harrison Wells', 'Wally West', 'Captain Singh', 'Oliver Queen']\n"
     ]
    }
   ],
   "source": [
    "namelist.insert(6, 'Wally West')\n",
    "print(namelist)"
   ]
  },
  {
   "cell_type": "markdown",
   "metadata": {},
   "source": [
    "### extend"
   ]
  },
  {
   "cell_type": "code",
   "execution_count": 59,
   "metadata": {},
   "outputs": [
    {
     "name": "stdout",
     "output_type": "stream",
     "text": [
      "['Barry Allen', 'Iris West', 'Cisco Ramon', 'Caitlin Snow', 'Joe West', 'Harrison Wells', 'Wally West', 'Captain Singh', 'Oliver Queen', 'Felicity Snow', 'Jhon Diggle']\n"
     ]
    }
   ],
   "source": [
    "arrowcast = ['Felicity Snow', 'Jhon Diggle']\n",
    "namelist.extend(arrowcast)\n",
    "print(namelist)"
   ]
  },
  {
   "cell_type": "markdown",
   "metadata": {},
   "source": [
    "### clear"
   ]
  },
  {
   "cell_type": "code",
   "execution_count": 60,
   "metadata": {},
   "outputs": [
    {
     "name": "stdout",
     "output_type": "stream",
     "text": [
      "[]\n"
     ]
    }
   ],
   "source": [
    "arrowcast.clear()\n",
    "print(arrowcast)"
   ]
  },
  {
   "cell_type": "markdown",
   "metadata": {},
   "source": [
    "### Copy"
   ]
  },
  {
   "cell_type": "code",
   "execution_count": 61,
   "metadata": {},
   "outputs": [
    {
     "data": {
      "text/plain": [
       "['Barry Allen',\n",
       " 'Iris West',\n",
       " 'Cisco Ramon',\n",
       " 'Caitlin Snow',\n",
       " 'Joe West',\n",
       " 'Harrison Wells',\n",
       " 'Wally West',\n",
       " 'Captain Singh',\n",
       " 'Oliver Queen',\n",
       " 'Felicity Snow',\n",
       " 'Jhon Diggle']"
      ]
     },
     "execution_count": 61,
     "metadata": {},
     "output_type": "execute_result"
    }
   ],
   "source": [
    "namelist_cpy = namelist.copy()\n",
    "namelist_cpy"
   ]
  },
  {
   "cell_type": "markdown",
   "metadata": {},
   "source": [
    "### pop"
   ]
  },
  {
   "cell_type": "code",
   "execution_count": 62,
   "metadata": {},
   "outputs": [
    {
     "data": {
      "text/plain": [
       "'Jhon Diggle'"
      ]
     },
     "execution_count": 62,
     "metadata": {},
     "output_type": "execute_result"
    }
   ],
   "source": [
    "namelist.pop()"
   ]
  },
  {
   "cell_type": "markdown",
   "metadata": {},
   "source": [
    "### index"
   ]
  },
  {
   "cell_type": "code",
   "execution_count": 63,
   "metadata": {},
   "outputs": [
    {
     "data": {
      "text/plain": [
       "7"
      ]
     },
     "execution_count": 63,
     "metadata": {},
     "output_type": "execute_result"
    }
   ],
   "source": [
    "namelist.index(\"Captain Singh\")"
   ]
  },
  {
   "cell_type": "markdown",
   "metadata": {},
   "source": [
    "### remove"
   ]
  },
  {
   "cell_type": "code",
   "execution_count": 64,
   "metadata": {},
   "outputs": [
    {
     "name": "stdout",
     "output_type": "stream",
     "text": [
      "['Barry Allen', 'Cisco Ramon', 'Caitlin Snow', 'Joe West', 'Harrison Wells', 'Wally West', 'Captain Singh', 'Oliver Queen', 'Felicity Snow']\n"
     ]
    }
   ],
   "source": [
    "namelist.remove('Iris West')\n",
    "print(namelist)"
   ]
  },
  {
   "cell_type": "markdown",
   "metadata": {},
   "source": [
    "### reverse"
   ]
  },
  {
   "cell_type": "code",
   "execution_count": 65,
   "metadata": {},
   "outputs": [
    {
     "name": "stdout",
     "output_type": "stream",
     "text": [
      "['Felicity Snow', 'Oliver Queen', 'Captain Singh', 'Wally West', 'Harrison Wells', 'Joe West', 'Caitlin Snow', 'Cisco Ramon', 'Barry Allen']\n"
     ]
    }
   ],
   "source": [
    "namelist.reverse()\n",
    "print(namelist)"
   ]
  },
  {
   "cell_type": "markdown",
   "metadata": {},
   "source": [
    "### sort"
   ]
  },
  {
   "cell_type": "code",
   "execution_count": 66,
   "metadata": {},
   "outputs": [
    {
     "name": "stdout",
     "output_type": "stream",
     "text": [
      "['Barry Allen', 'Caitlin Snow', 'Captain Singh', 'Cisco Ramon', 'Felicity Snow', 'Harrison Wells', 'Joe West', 'Oliver Queen', 'Wally West']\n"
     ]
    }
   ],
   "source": [
    "namelist.sort()\n",
    "print(namelist)"
   ]
  },
  {
   "cell_type": "markdown",
   "metadata": {},
   "source": [
    "## List Slicing"
   ]
  },
  {
   "cell_type": "code",
   "execution_count": 67,
   "metadata": {},
   "outputs": [
    {
     "name": "stdout",
     "output_type": "stream",
     "text": [
      "['Barry Allen', 'Caitlin Snow', 'Captain Singh', 'Cisco Ramon', 'Felicity Snow', 'Harrison Wells', 'Joe West', 'Oliver Queen', 'Wally West']\n",
      "Barry Allen\n",
      "Wally West\n",
      "['Caitlin Snow', 'Captain Singh']\n"
     ]
    }
   ],
   "source": [
    "print(namelist[:])\n",
    "print(namelist[0])\n",
    "print(namelist[-1])\n",
    "print(namelist[1:3])"
   ]
  },
  {
   "cell_type": "code",
   "execution_count": null,
   "metadata": {},
   "outputs": [],
   "source": []
  }
 ],
 "metadata": {
  "kernelspec": {
   "display_name": "Python 3",
   "language": "python",
   "name": "python3"
  },
  "language_info": {
   "codemirror_mode": {
    "name": "ipython",
    "version": 3
   },
   "file_extension": ".py",
   "mimetype": "text/x-python",
   "name": "python",
   "nbconvert_exporter": "python",
   "pygments_lexer": "ipython3",
   "version": "3.8.3"
  }
 },
 "nbformat": 4,
 "nbformat_minor": 4
}
