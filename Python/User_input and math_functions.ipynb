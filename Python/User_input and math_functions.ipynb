{
 "cells": [
  {
   "cell_type": "markdown",
   "metadata": {},
   "source": [
    "# User Input and Math function"
   ]
  },
  {
   "cell_type": "markdown",
   "metadata": {},
   "source": [
    "### Example 1\n",
    "\n",
    "Accepting 2 numbers and printing the arthematic operation"
   ]
  },
  {
   "cell_type": "code",
   "execution_count": 1,
   "metadata": {},
   "outputs": [
    {
     "name": "stdout",
     "output_type": "stream",
     "text": [
      "Enter 2 numbers: 4 3\n",
      "4 + 3 = 7\n",
      "4 - 3 = 1\n",
      "4 * 3 = 12\n",
      "4 / 3 = 1.3333333333333333\n",
      "4 % 3 = 1\n"
     ]
    }
   ],
   "source": [
    "num_1, num_2 = input(\"Enter 2 numbers: \").split()\n",
    "num_1 = int(num_1)\n",
    "num_2 = int(num_2)\n",
    "\n",
    "sum_1 = num_1 + num_2\n",
    "difference = num_1 - num_2\n",
    "product = num_1 * num_2\n",
    "divide = num_1 / num_2\n",
    "reminder = num_1 % num_2\n",
    "\n",
    "print(f\"{num_1} + {num_2} = {sum_1}\")\n",
    "print(f\"{num_1} - {num_2} = {difference}\")\n",
    "print(f\"{num_1} * {num_2} = {product}\")\n",
    "print(f\"{num_1} / {num_2} = {divide}\")\n",
    "print(f\"{num_1} % {num_2} = {reminder}\")"
   ]
  },
  {
   "cell_type": "markdown",
   "metadata": {},
   "source": [
    "### Example 2\n",
    "\n",
    "Ask to user to input for convert from miles or kilometers and the corresponding value\n",
    "\n",
    "print the converted value\n"
   ]
  },
  {
   "cell_type": "code",
   "execution_count": 6,
   "metadata": {},
   "outputs": [
    {
     "name": "stdout",
     "output_type": "stream",
     "text": [
      "Enter the distance like 12 kilometers or 3 miles: 3 miles\n",
      "3 miles equals 4.82802 kilometers\n"
     ]
    }
   ],
   "source": [
    "distance, unit = input(\"Enter the distance like 12 kilometers or 3 miles: \").split()\n",
    "distance = int(distance)\n",
    "\n",
    "if unit == \"miles\":\n",
    "    conv_distance = distance * 1.60934\n",
    "    print(f\"{distance} miles equals {conv_distance} kilometers\")\n",
    "elif unit == \"kilometers\":\n",
    "    conv_distance = distance / 1.60934\n",
    "    print(f\"{distance} kilometers equals {conv_distance} miles\")\n",
    "else:\n",
    "    print(\"Invlaid inputs provided.\")"
   ]
  },
  {
   "cell_type": "markdown",
   "metadata": {},
   "source": [
    "## Math Module"
   ]
  },
  {
   "cell_type": "code",
   "execution_count": 7,
   "metadata": {},
   "outputs": [],
   "source": [
    "import math"
   ]
  },
  {
   "cell_type": "code",
   "execution_count": 14,
   "metadata": {},
   "outputs": [
    {
     "name": "stdout",
     "output_type": "stream",
     "text": [
      "ceil(4.4) is 5\n",
      "floor(4.4) is 4\n",
      "fabs(-4.4) is 4.4\n",
      "factorial(4) is 24\n",
      "fmod(5,4) is 1.0\n",
      "trunc(4.4) is 4\n"
     ]
    }
   ],
   "source": [
    "# Returns the ceil value of a float\n",
    "print(\"ceil(4.4) is\", math.ceil(4.4))\n",
    "\n",
    "# returns the floor value of a float\n",
    "print(\"floor(4.4) is\", math.floor(4.4))\n",
    "\n",
    "# Returns the absolute value\n",
    "print(\"fabs(-4.4) is\", math.fabs(-4.4))\n",
    "\n",
    "# Returns teh factorial, Eg: factorial(4) = 1 * 2 * 3 * 4\n",
    "print(\"factorial(4) is\", math.factorial(4))\n",
    "\n",
    "# Returns the reminder of the division\n",
    "print(\"fmod(5,4) is\", math.fmod(5,4))\n",
    "\n",
    "# Receives a float and returns a int\n",
    "print(\"trunc(4.4) is\", math.trunc(4.4))"
   ]
  },
  {
   "cell_type": "markdown",
   "metadata": {},
   "source": [
    "### Special Values"
   ]
  },
  {
   "cell_type": "code",
   "execution_count": 15,
   "metadata": {},
   "outputs": [
    {
     "name": "stdout",
     "output_type": "stream",
     "text": [
      "math.e = 2.718281828459045\n",
      "math.pi = 3.141592653589793\n"
     ]
    }
   ],
   "source": [
    "print(\"math.e =\", math.e)\n",
    "print(\"math.pi =\", math.pi)"
   ]
  },
  {
   "cell_type": "markdown",
   "metadata": {},
   "source": [
    "### Power and Square root"
   ]
  },
  {
   "cell_type": "code",
   "execution_count": 17,
   "metadata": {},
   "outputs": [
    {
     "name": "stdout",
     "output_type": "stream",
     "text": [
      "pow(2,2) = 4.0\n",
      "sqrt(4) = 2.0\n"
     ]
    }
   ],
   "source": [
    "print(\"pow(2,2) =\", math.pow(2,2))\n",
    "print(\"sqrt(4) =\", math.sqrt(4))"
   ]
  },
  {
   "cell_type": "markdown",
   "metadata": {},
   "source": [
    "### calculating log values"
   ]
  },
  {
   "cell_type": "code",
   "execution_count": 19,
   "metadata": {},
   "outputs": [
    {
     "name": "stdout",
     "output_type": "stream",
     "text": [
      "log(1000,10) = 2.9999999999999996\n",
      "log10(1000) = 3.0\n"
     ]
    }
   ],
   "source": [
    "# You can define the base and 10^3 as 1000\n",
    "print(\"log(1000,10) =\", math.log(1000,10))\n",
    "\n",
    "# You can also use base 10 like this\n",
    "print(\"log10(1000) =\", math.log10(1000))"
   ]
  },
  {
   "cell_type": "markdown",
   "metadata": {},
   "source": [
    "### Convert radians to degrees and vice versa"
   ]
  },
  {
   "cell_type": "code",
   "execution_count": 20,
   "metadata": {},
   "outputs": [
    {
     "name": "stdout",
     "output_type": "stream",
     "text": [
      "degrees(1.5034) = 86.13847491996796\n",
      "radians(90) = 1.5707963267948966\n"
     ]
    }
   ],
   "source": [
    "print(\"degrees(1.5034) =\", math.degrees(1.5034))\n",
    "print(\"radians(90) =\", math.radians(90))"
   ]
  },
  {
   "cell_type": "markdown",
   "metadata": {},
   "source": [
    "### Trignometric Functions"
   ]
  },
  {
   "cell_type": "code",
   "execution_count": 34,
   "metadata": {},
   "outputs": [
    {
     "name": "stdout",
     "output_type": "stream",
     "text": [
      "sin(0) = 0.0\n",
      "cos(0) = 1.0\n",
      "tan(0) = 0.0\n",
      "asin(0) = 0.0\n",
      "acos(0) = 1.5707963267948966\n",
      "atan(0) = 0.0\n",
      "atan2(90, 15) = 1.4056476493802699\n",
      "sinh(0) = 0.0\n",
      "cosh(0) = 1.0\n",
      "tanh(0) = 0.0\n",
      "asinh(1) = 0.8813735870195429\n",
      "acosh(2) = 1.3169578969248166\n",
      "atanh(0.5) = 0.5493061443340549\n"
     ]
    }
   ],
   "source": [
    "print(\"sin(0) =\", math.sin(0))\n",
    "print(\"cos(0) =\", math.cos(0))\n",
    "print(\"tan(0) =\", math.tan(0))\n",
    "print(\"asin(0) =\", math.asin(0))\n",
    "print(\"acos(0) =\", math.acos(0))\n",
    "print(\"atan(0) =\", math.atan(0))\n",
    "print(\"atan2(90, 15) =\", math.atan2(90, 15))\n",
    "print(\"sinh(0) =\", math.sinh(0))\n",
    "print(\"cosh(0) =\", math.cosh(0))\n",
    "print(\"tanh(0) =\", math.tanh(0))\n",
    "print(\"asinh(1) =\", math.asinh(1))\n",
    "print(\"acosh(2) =\", math.acosh(2))\n",
    "print(\"atanh(0.5) =\", math.atanh(0.5))"
   ]
  },
  {
   "cell_type": "markdown",
   "metadata": {},
   "source": [
    "### Other math functions"
   ]
  },
  {
   "cell_type": "code",
   "execution_count": 47,
   "metadata": {},
   "outputs": [
    {
     "name": "stdout",
     "output_type": "stream",
     "text": [
      "gamma(1) = 1.0\n",
      "Is 1 finite = True\n"
     ]
    }
   ],
   "source": [
    "print(\"gamma(1) =\", math.gamma(1))\n",
    "print(\"Is 1 finite =\", math.isfinite(1))"
   ]
  },
  {
   "cell_type": "code",
   "execution_count": null,
   "metadata": {},
   "outputs": [],
   "source": []
  },
  {
   "cell_type": "code",
   "execution_count": null,
   "metadata": {},
   "outputs": [],
   "source": []
  }
 ],
 "metadata": {
  "kernelspec": {
   "display_name": "Python 3",
   "language": "python",
   "name": "python3"
  },
  "language_info": {
   "codemirror_mode": {
    "name": "ipython",
    "version": 3
   },
   "file_extension": ".py",
   "mimetype": "text/x-python",
   "name": "python",
   "nbconvert_exporter": "python",
   "pygments_lexer": "ipython3",
   "version": "3.8.3"
  }
 },
 "nbformat": 4,
 "nbformat_minor": 4
}
